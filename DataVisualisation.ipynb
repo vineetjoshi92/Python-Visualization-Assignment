{
 "cells": [
  {
   "cell_type": "code",
   "execution_count": null,
   "metadata": {
    "collapsed": true
   },
   "outputs": [],
   "source": [
    "# Importing the modules\n",
    "import pandas as pd\n",
    "import numpy as np\n",
    "import matplotlib.pyplot as plt\n",
    "import seaborn as sns\n",
    "%matplotlib inline "
   ]
  },
  {
   "cell_type": "markdown",
   "metadata": {},
   "source": [
    "Importing the datasets<script src=\"https://npmcdn.com/jupyter-js-widgets@~1.2.0/dist/embed.js\"></script><script type=\"application/vnd.jupyter-embedded-widgets\">{}</script>"
   ]
  },
  {
   "cell_type": "code",
   "execution_count": null,
   "metadata": {
    "collapsed": false
   },
   "outputs": [],
   "source": [
    "senate_2010 = pd.read_csv('all_house_senate_2010.csv', header=0)\n",
    "senate_2014 = pd.read_csv('all_house_senate_2014.csv', header=0)\n",
    "senate_2016 = pd.read_csv('all_house_senate_2016.csv', header=0, encoding = 'ISO-8859-1')"
   ]
  },
  {
   "cell_type": "code",
   "execution_count": null,
   "metadata": {
    "collapsed": true
   },
   "outputs": [],
   "source": [
    "# Create a new dataframe keeping only some important columns from the original set.\n",
    "senate_2010_disb = senate_2010.loc[:, ['com_id', 'com_nam','can_nam', 'ele_yea', 'can_off','can_off_sta', 'lin_num', \n",
    "                                       'dis_dat', 'dis_amo']]"
   ]
  },
  {
   "cell_type": "code",
   "execution_count": null,
   "metadata": {
    "collapsed": true
   },
   "outputs": [],
   "source": [
    "# Converting the disbursement amount into a float(also removing the whitespaces, dollar signs and commas)\n",
    "senate_2010_disb['dis_amo'] = senate_2010_disb['dis_amo'].str.strip().str.replace(',','').str.replace('$','').astype(float)"
   ]
  },
  {
   "cell_type": "code",
   "execution_count": null,
   "metadata": {
    "collapsed": false
   },
   "outputs": [],
   "source": [
    "senate_2010_disb.head()"
   ]
  },
  {
   "cell_type": "code",
   "execution_count": null,
   "metadata": {
    "collapsed": false
   },
   "outputs": [],
   "source": [
    "# Selecting only the relevant columns\n",
    "senate_2014_disb = senate_2014.loc[:, ['com_id', 'com_nam','can_nam', 'ele_yea', 'can_off','can_off_sta', 'lin_num', \n",
    "                                       'dis_dat', 'dis_amo']]"
   ]
  },
  {
   "cell_type": "code",
   "execution_count": null,
   "metadata": {
    "collapsed": false
   },
   "outputs": [],
   "source": [
    "# Stripping white spaces and removing the dollar signs and commas\n",
    "senate_2014_disb['dis_amo'] = senate_2014_disb['dis_amo'].str.strip().str.replace(',','').str.replace('$','')"
   ]
  },
  {
   "cell_type": "code",
   "execution_count": null,
   "metadata": {
    "collapsed": true
   },
   "outputs": [],
   "source": [
    "# Removing the parenthesis which denote a negative number\n",
    "senate_2014_disb['dis_amo'] = senate_2014_disb['dis_amo'].str.replace('(','-').str.replace(')','')"
   ]
  },
  {
   "cell_type": "code",
   "execution_count": null,
   "metadata": {
    "collapsed": true
   },
   "outputs": [],
   "source": [
    "# Converting the disbursements to floats\n",
    "senate_2014_disb['dis_amo'] = senate_2014_disb['dis_amo'].astype(float)"
   ]
  },
  {
   "cell_type": "code",
   "execution_count": null,
   "metadata": {
    "collapsed": false
   },
   "outputs": [],
   "source": [
    "senate_2014_disb.head()"
   ]
  },
  {
   "cell_type": "code",
   "execution_count": null,
   "metadata": {
    "collapsed": true
   },
   "outputs": [],
   "source": [
    "# Selecting only the relevant columns\n",
    "senate_2016_disb = senate_2016.loc[:, ['com_id', 'com_nam','can_nam', 'ele_yea', 'can_off','can_off_sta', 'lin_num', \n",
    "                                       'dis_dat', 'dis_amo']]"
   ]
  },
  {
   "cell_type": "code",
   "execution_count": null,
   "metadata": {
    "collapsed": false
   },
   "outputs": [],
   "source": [
    "# Stripping white spaces and removing the dollar signs and commas\n",
    "senate_2016_disb['dis_amo'] = senate_2016_disb['dis_amo'].str.strip().str.replace(',','').str.replace('$','')"
   ]
  },
  {
   "cell_type": "code",
   "execution_count": null,
   "metadata": {
    "collapsed": true
   },
   "outputs": [],
   "source": [
    "# Removing the parenthesis which denote a negative number\n",
    "senate_2016_disb['dis_amo'] = senate_2016_disb['dis_amo'].str.replace('(','-').str.replace(')','')"
   ]
  },
  {
   "cell_type": "code",
   "execution_count": null,
   "metadata": {
    "collapsed": true
   },
   "outputs": [],
   "source": [
    "# Converting the disbursements to floats\n",
    "senate_2016_disb['dis_amo'] = senate_2016_disb['dis_amo'].astype(float)"
   ]
  },
  {
   "cell_type": "code",
   "execution_count": null,
   "metadata": {
    "collapsed": false,
    "scrolled": true
   },
   "outputs": [],
   "source": [
    "senate_2016_disb.head()"
   ]
  },
  {
   "cell_type": "code",
   "execution_count": null,
   "metadata": {
    "collapsed": false
   },
   "outputs": [],
   "source": [
    "# Combining all the data sets\n",
    "senate_all = senate_2010_disb.append(senate_2014_disb, ignore_index=True).append(senate_2016_disb, ignore_index=True)"
   ]
  },
  {
   "cell_type": "markdown",
   "metadata": {},
   "source": [
    "Plot 1:\n",
    "The number of disbursements made per state during each year of the congressional elections<script src=\"https://npmcdn.com/jupyter-js-widgets@~1.2.0/dist/embed.js\"></script><script type=\"application/vnd.jupyter-embedded-widgets\">{}</script>"
   ]
  },
  {
   "cell_type": "code",
   "execution_count": null,
   "metadata": {
    "collapsed": false
   },
   "outputs": [],
   "source": [
    "plt.figure(figsize=(15,30))\n",
    "plt.subplot(3,1,1)\n",
    "sns.countplot(x='can_off_sta', data=senate_2010_disb, hue = 'can_off')\n",
    "plt.xticks(size=10)\n",
    "plt.xlabel('State')\n",
    "plt.ylabel('Number of disbursements')\n",
    "plt.title('State wise disbursements(2010)')\n",
    "\n",
    "plt.subplot(3,1,2)\n",
    "sns.countplot(x='can_off_sta', data=senate_2014_disb, hue = 'can_off')\n",
    "plt.xticks(size=10)\n",
    "plt.xlabel('State')\n",
    "plt.ylabel('Number of disbursements')\n",
    "plt.title('State wise disbursements(2014)')\n",
    "\n",
    "plt.subplot(3,1,3)\n",
    "sns.countplot(x='can_off_sta', data=senate_2016_disb, hue = 'can_off')\n",
    "plt.xticks(size=10)\n",
    "plt.xlabel('State')\n",
    "plt.ylabel('Number of disbursements')\n",
    "plt.title('State wise disbursements(2016)')"
   ]
  },
  {
   "cell_type": "markdown",
   "metadata": {},
   "source": [
    "Plot 2: \n",
    "A box plot describing the distribution of the disbursements made across each of the three years across different offices - 2010, 2014 and 2016.\n",
    "<script src=\"https://npmcdn.com/jupyter-js-widgets@~1.2.0/dist/embed.js\"></script><script type=\"application/vnd.jupyter-embedded-widgets\">{}</script>"
   ]
  },
  {
   "cell_type": "code",
   "execution_count": null,
   "metadata": {
    "collapsed": false,
    "scrolled": true
   },
   "outputs": [],
   "source": [
    "plt.figure(figsize=(15,5))\n",
    "plt.subplot(1,3,1)\n",
    "sns.boxplot(y='can_off', x='dis_amo', data=senate_2010_disb[senate_2010_disb['dis_amo']>0], palette='summer', orient='h')\n",
    "plt.xscale('log')\n",
    "plt.xlabel('Disbursement Amount')\n",
    "plt.ylabel('Office')\n",
    "plt.title('Range of disbursements in 2010')\n",
    "\n",
    "plt.subplot(1,3,2)\n",
    "sns.boxplot(y='can_off', x='dis_amo', data=senate_2014_disb[senate_2014_disb['dis_amo']>0], palette='summer',orient='h')\n",
    "plt.xscale('log')\n",
    "plt.xlabel('Disbursement Amount')\n",
    "plt.ylabel('Office')\n",
    "plt.title('Range of disbursements in 2014')\n",
    "\n",
    "plt.subplot(1,3,3)\n",
    "sns.boxplot(y='can_off', x='dis_amo', data=senate_2016_disb[senate_2016_disb['dis_amo']>0], palette='summer',orient='h')\n",
    "plt.xscale('log')\n",
    "plt.xlabel('Disbursement Amount')\n",
    "plt.ylabel('Office')\n",
    "plt.title('Range of disbursements in 2016')"
   ]
  },
  {
   "cell_type": "markdown",
   "metadata": {},
   "source": [
    "Plot 3: The lin_num denotes the type of disbursement made or received as per the FEC Form 3. <br>\n",
    "17 - Operating Expenditures <br>\n",
    "18 - Transfers to Other Authorized Committees <br>\n",
    "19 - Loan Repayments <br>\n",
    "20 - Refunds of Contributions <br>\n",
    "21 - Other Disbursements <br>\n",
    "22 - Sum of lines 17, 18, 19(c), 20(d), and 21 <br>\n",
    "19 and 20 are further divided into more specific payments <br>\n",
    "The figure below gives a count of the disbursements for each type.<script src=\"https://npmcdn.com/jupyter-js-widgets@~1.2.0/dist/embed.js\"></script><script type=\"application/vnd.jupyter-embedded-widgets\">{}</script>"
   ]
  },
  {
   "cell_type": "code",
   "execution_count": null,
   "metadata": {
    "collapsed": false,
    "scrolled": true
   },
   "outputs": [],
   "source": [
    "plt.figure(figsize=(15,5))\n",
    "plt.subplot(1,3,1)\n",
    "sns.countplot(x='lin_num', data=senate_2010_disb, hue='can_off', palette='Set2')\n",
    "plt.xticks(size = 10)\n",
    "plt.yscale(\"log\")\n",
    "plt.xlabel('FEC Form 3 Line')\n",
    "plt.ylabel('Number of disbursements')\n",
    "plt.legend(loc='upper right')\n",
    "plt.title('Type of disbursement')\n",
    "\n",
    "plt.subplot(1,3,2)\n",
    "sns.countplot(x='lin_num', data=senate_2014_disb, hue='can_off', palette='Set2')\n",
    "plt.xticks(size = 10)\n",
    "plt.yscale(\"log\")\n",
    "plt.xlabel('FEC Form 3 Line')\n",
    "plt.ylabel('Number of disbursements')\n",
    "plt.legend(loc='upper right')\n",
    "plt.title('Type of disbursement')\n",
    "\n",
    "plt.subplot(1,3,3)\n",
    "sns.countplot(x='lin_num', data=senate_2016_disb, hue='can_off', palette='Set2')\n",
    "plt.xticks(size = 10)\n",
    "plt.yscale(\"log\")\n",
    "plt.xlabel('FEC Form 3 Line')\n",
    "plt.ylabel('Number of disbursements')\n",
    "plt.legend(loc='upper right')\n",
    "plt.title('Type of disbursement')"
   ]
  },
  {
   "cell_type": "markdown",
   "metadata": {},
   "source": [
    "Plot 4:\n",
    "A distribution of the disbursements made for the Presidential office in 2016.\n",
    "<script src=\"https://npmcdn.com/jupyter-js-widgets@~1.2.0/dist/embed.js\"></script><script type=\"application/vnd.jupyter-embedded-widgets\">{}</script>"
   ]
  },
  {
   "cell_type": "code",
   "execution_count": null,
   "metadata": {
    "collapsed": false
   },
   "outputs": [],
   "source": [
    "sns.distplot(senate_2016_disb['dis_amo'][senate_2016_disb['can_off']=='P'], bins=50)\n",
    "plt.xlabel('Amount($)')\n",
    "plt.title('Disbursement distribution for the Presidential office')"
   ]
  },
  {
   "cell_type": "markdown",
   "metadata": {},
   "source": [
    "Plot 5: Top 10 committees with the most number of disbursements across all years<script src=\"https://npmcdn.com/jupyter-js-widgets@~1.2.0/dist/embed.js\"></script><script type=\"application/vnd.jupyter-embedded-widgets\">{}</script>"
   ]
  },
  {
   "cell_type": "code",
   "execution_count": null,
   "metadata": {
    "collapsed": false
   },
   "outputs": [],
   "source": [
    "# We group the data by committee ID and aggregate the count of the disbursement amounts. After this is done, we sort the values \n"
     "in descending order and select the top ten entries.\n",
    "top10_comm_disb = senate_all.groupby('com_id').dis_amo.agg('count').sort_values(ascending=False).head(10)"
   ]
  },
  {
   "cell_type": "code",
   "execution_count": null,
   "metadata": {
    "collapsed": false,
    "scrolled": true
   },
   "outputs": [],
   "source": [
    "top10_comm_disb.plot(kind='bar', colormap='Set1')\n",
    "plt.xlabel('Committee ID')\n",
    "plt.ylabel('Total number of disbursements made')\n",
    "plt.title('Committees with the highest disbursements')"
   ]
  },
  {
   "cell_type": "markdown",
   "metadata": {},
   "source": [
    "Plot 6: Top 10 committees with highest amounts paid across all years<script src=\"https://npmcdn.com/jupyter-js-widgets@~1.2.0/dist/embed.js\"></script><script type=\"application/vnd.jupyter-embedded-widgets\">{}</script>"
   ]
  },
  {
   "cell_type": "code",
   "execution_count": null,
   "metadata": {
    "collapsed": true
   },
   "outputs": [],
   "source": [
    "# We group the data by committee ID and aggregate the sum of the disbursement amounts. After this is done, we sort the values in descending order and select the top ten entries.\n",
    "top10_comm_amo = senate_all.groupby('com_id').dis_amo.agg('sum').sort_values(ascending=False).head(10)"
   ]
  },
  {
   "cell_type": "code",
   "execution_count": null,
   "metadata": {
    "collapsed": false
   },
   "outputs": [],
   "source": [
    "top10_comm_amo.plot(kind='bar', colormap='Set2')\n",
    "plt.xlabel('Committee ID')\n",
    "plt.ylabel('Total disbursement amount')\n",
    "plt.title('Committees with the highest amounts paid')"
   ]
  },
  {
   "cell_type": "markdown",
   "metadata": {},
   "source": [
    "Plot 7: Top 10 candidates with the most number of disbursements across all years\n",
    "    <script src=\"https://npmcdn.com/jupyter-js-widgets@~1.2.0/dist/embed.js\"></script><script type=\"application/vnd.jupyter-embedded-widgets\">{}</script>"
   ]
  },
  {
   "cell_type": "code",
   "execution_count": null,
   "metadata": {
    "collapsed": true
   },
   "outputs": [],
   "source": [
    "# We group the data by the candidate and aggregate the count of the disbursement amounts. After this is done, we sort the values in descending order and select the top ten entries.\n",
    "top10_cand = senate_all.groupby('can_nam').dis_amo.agg('count').sort_values(ascending=False).head(10)"
   ]
  },
  {
   "cell_type": "code",
   "execution_count": null,
   "metadata": {
    "collapsed": false
   },
   "outputs": [],
   "source": [
    "top10_cand.plot(kind='bar', colormap='ocean')\n",
    "plt.xlabel('Candidate Name')\n",
    "plt.ylabel('Total number of disbursements')\n",
    "plt.title('Candidates with the most disbursements')"
   ]
  },
  {
   "cell_type": "markdown",
   "metadata": {},
   "source": [
    "Plot 8: Top 10 candidates with the highest disbursements amounts all years\n",
    "    <script src=\"https://npmcdn.com/jupyter-js-widgets@~1.2.0/dist/embed.js\"></script><script type=\"application/vnd.jupyter-embedded-widgets\">{}</script>"
   ]
  },
  {
   "cell_type": "code",
   "execution_count": null,
   "metadata": {
    "collapsed": true
   },
   "outputs": [],
   "source": [
    "# We group the data by the candidate and aggregate the sum of the disbursement amounts. After this is done, we sort the values in descending order and select the top ten entries.\n",
    "top10_cand_amo = senate_all.groupby('can_nam').dis_amo.agg('sum').sort_values(ascending=False).head(10)"
   ]
  },
  {
   "cell_type": "code",
   "execution_count": null,
   "metadata": {
    "collapsed": false
   },
   "outputs": [],
   "source": [
    "top10_cand_amo.plot(kind='bar', colormap='rainbow')\n",
    "plt.yscale('log')\n",
    "plt.xlabel('Candidate Name')\n",
    "plt.ylabel('Total number of disbursements')\n",
    "plt.title('Candidates with the most disbursements')"
   ]
  },
  {
   "cell_type": "markdown",
   "metadata": {},
   "source": [
    "Plot 9: A heatmap of the number of disbursements made across each state and each expense according to the line number in the FEC\n",
    "    Form 3. Since, line number 17 accounts for over 98% of the disbursements for each year, we will remove this particular\n",
    "    line number so that it does not dominate the heatmap.\n",
    "    <script src=\"https://npmcdn.com/jupyter-js-widgets@~1.2.0/dist/embed.js\"></script><script type=\"application/vnd.jupyter-embedded-widgets\">{}</script>"
   ]
  },
  {
   "cell_type": "code",
   "execution_count": null,
   "metadata": {
    "collapsed": true
   },
   "outputs": [],
   "source": [
    "# Creating a dataframe with the relevant columns\n",
    "linestate_2010 = senate_2010_disb.loc[:,['can_off_sta','lin_num','dis_amo']]\n",
    "linestate_2014 = senate_2014_disb.loc[:,['can_off_sta','lin_num','dis_amo']]\n",
    "linestate_2016 = senate_2016_disb.loc[:,['can_off_sta','lin_num','dis_amo']]"
   ]
  },
  {
   "cell_type": "code",
   "execution_count": null,
   "metadata": {
    "collapsed": true
   },
   "outputs": [],
   "source": [
    "# Aggregating the number of disbursements according to each state and line number\n",
    "linestate_2010 = linestate_2010.groupby(['can_off_sta','lin_num']).dis_amo.agg('count').reset_index()\n",
    "linestate_2014 = linestate_2014.groupby(['can_off_sta','lin_num']).dis_amo.agg('count').reset_index()\n",
    "linestate_2016 = linestate_2016.groupby(['can_off_sta','lin_num']).dis_amo.agg('count').reset_index()"
   ]
  },
  {
   "cell_type": "code",
   "execution_count": null,
   "metadata": {
    "collapsed": true
   },
   "outputs": [],
   "source": [
    "# Exlcuding line '17'\n",
    "linestate_2010 = linestate_2010[linestate_2010['lin_num'] != '17']\n",
    "linestate_2014 = linestate_2014[linestate_2014['lin_num'] != '17']\n",
    "linestate_2016 = linestate_2016[linestate_2016['lin_num'] != '17']"
   ]
  },
  {
   "cell_type": "code",
   "execution_count": null,
   "metadata": {
    "collapsed": true
   },
   "outputs": [],
   "source": [
    "# Creating pivot tables\n",
    "pivot2010 = linestate_2010.pivot_table(values='dis_amo', index='lin_num', columns='can_off_sta')\n",
    "pivot2014 = linestate_2014.pivot_table(values='dis_amo', index='lin_num', columns='can_off_sta')\n",
    "pivot2016 = linestate_2016.pivot_table(values='dis_amo', index='lin_num', columns='can_off_sta')"
   ]
  },
  {
   "cell_type": "code",
   "execution_count": null,
   "metadata": {
    "collapsed": false
   },
   "outputs": [],
   "source": [
    "# Plotting the heatmaps\n",
    "plt.figure(figsize=(20,30))\n",
    "plt.subplot(3,1,1)\n",
    "sns.heatmap(pivot2010,cmap='YlGn')\n",
    "plt.subplot(3,1,2)\n",
    "sns.heatmap(pivot2014,cmap='YlGn')\n",
    "plt.subplot(3,1,3)\n",
    "sns.heatmap(pivot2016,cmap='YlGn')"
   ]
  },
  {
   "cell_type": "markdown",
   "metadata": {
    "collapsed": true
   },
   "source": [
    "Plot 10: Boxplots to check the distribution of disbursements belonging to line 17 of the FEC Form 3\n",
    "It's evident that the distribution of spending on operating expenditures has remained constant over the years.\n",
    "    <script src=\"https://npmcdn.com/jupyter-js-widgets@~1.2.0/dist/embed.js\"></script><script type=\"application/vnd.jupyter-embedded-widgets\">{}</script>"
   ]
  },
  {
   "cell_type": "code",
   "execution_count": null,
   "metadata": {
    "collapsed": true
   },
   "outputs": [],
   "source": [
    "# Selecting rows with lin_num equal to 17\n",
    "senate17 = senate_all[senate_all['lin_num']=='17']"
   ]
  },
  {
   "cell_type": "code",
   "execution_count": null,
   "metadata": {
    "collapsed": false
   },
   "outputs": [],
   "source": [
    "sns.boxplot(y='ele_yea', x='dis_amo', data=senate17[senate17['dis_amo']>0], palette='copper', orient='h')\n",
    "plt.xscale('log')\n",
    "plt.xlabel('Disbursement Amount')\n",
    "plt.ylabel('Election Year')\n",
    "plt.title('Range of disbursements for the expenses in line 17 of the FEC Form 3')"
   ]
  },
  {
   "cell_type": "code",
   "execution_count": null,
   "metadata": {
    "collapsed": false
   },
   "outputs": [],
   "source": [
    "# Importing the plotly module\n",
    "from plotly import __version__\n",
    "from plotly.offline import download_plotlyjs, init_notebook_mode, plot, iplot\n",
    "\n",
    "print(__version__) # requires version >= 1.9.0"
   ]
  },
  {
   "cell_type": "code",
   "execution_count": null,
   "metadata": {
    "collapsed": false
   },
   "outputs": [],
   "source": [
    "init_notebook_mode(connected=True)"
   ]
  },
  {
   "cell_type": "markdown",
   "metadata": {},
   "source": [
    "Plot 11: This is an interactive map which shows the amount of disbursements in each of the states of the USA.<script src=\"https://npmcdn.com/jupyter-js-widgets@~1.2.0/dist/embed.js\"></script><script type=\"application/vnd.jupyter-embedded-widgets\">{}</script>"
   ]
  },
  {
   "cell_type": "code",
   "execution_count": null,
   "metadata": {
    "collapsed": true
   },
   "outputs": [],
   "source": [
    "# Aggregating the sum of the disbursement amount per state\n",
    "disbursement_map = senate_all.groupby('can_off_sta').dis_amo.agg('sum').reset_index()"
   ]
  },
  {
   "cell_type": "code",
   "execution_count": null,
   "metadata": {
    "collapsed": true
   },
   "outputs": [],
   "source": [
    "# Defining the color scale\n",
    "scl = [[0.0, 'rgb(242,240,247)'],[0.2, 'rgb(218,218,235)'],[0.4, 'rgb(188,189,220)'],\\\n",
    "            [0.6, 'rgb(158,154,200)'],[0.8, 'rgb(117,107,177)'],[1.0, 'rgb(84,39,143)']]\n"
   ]
  },
  {
   "cell_type": "code",
   "execution_count": null,
   "metadata": {
    "collapsed": true
   },
   "outputs": [],
   "source": [
    "# Defining the data to be plot on the map\n",
    "data = [ dict(\n",
    "        type='choropleth',\n",
    "        colorscale = scl,\n",
    "        autocolorscale = False,\n",
    "        locations = disbursement_map['can_off_sta'],\n",
    "        z = disbursement_map['dis_amo'],\n",
    "        locationmode = 'USA-states',\n",
    "        marker = dict(\n",
    "            line = dict (\n",
    "                color = 'rgb(255,255,255)',\n",
    "                width = 2\n",
    "            ) ),\n",
    "        colorbar = dict(\n",
    "            title = \"Disbursements (in USD)\")\n",
    "        ) ]"
   ]
  },
  {
   "cell_type": "code",
   "execution_count": null,
   "metadata": {
    "collapsed": true
   },
   "outputs": [],
   "source": [
    "# Describing the layout of the map\n",
    "layout = dict(\n",
    "        title = 'Total House, Senate, and Presidential Office Disbursements',\n",
    "        geo = dict(\n",
    "            scope='usa',\n",
    "            projection=dict( type='albers usa' ),\n",
    "            showlakes = True,\n",
    "            lakecolor = 'rgb(255, 255, 255)'),\n",
    "             )"
   ]
  },
  {
   "cell_type": "code",
   "execution_count": null,
   "metadata": {
    "collapsed": false
   },
   "outputs": [],
   "source": [
    "# Plotting the map\n",
    "fig = dict( data=data, layout=layout)\n",
    "iplot(fig)"
   ]
  }
 ],
 "metadata": {
  "celltoolbar": "Raw Cell Format",
  "kernelspec": {
   "display_name": "Python 3",
   "language": "python",
   "name": "python3"
  },
  "language_info": {
   "codemirror_mode": {
    "name": "ipython",
    "version": 3
   },
   "file_extension": ".py",
   "mimetype": "text/x-python",
   "name": "python",
   "nbconvert_exporter": "python",
   "pygments_lexer": "ipython3",
   "version": "3.6.0"
  }
 },
 "nbformat": 4,
 "nbformat_minor": 2
}
